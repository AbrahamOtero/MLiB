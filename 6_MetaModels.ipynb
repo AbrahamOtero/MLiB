{
  "nbformat": 4,
  "nbformat_minor": 0,
  "metadata": {
    "colab": {
      "provenance": [],
      "authorship_tag": "ABX9TyOqukO3DzEcVk/NDaijQQH3",
      "include_colab_link": true
    },
    "kernelspec": {
      "name": "python3",
      "display_name": "Python 3"
    },
    "language_info": {
      "name": "python"
    }
  },
  "cells": [
    {
      "cell_type": "markdown",
      "metadata": {
        "id": "view-in-github",
        "colab_type": "text"
      },
      "source": [
        "<a href=\"https://colab.research.google.com/github/AbrahamOtero/MLiB/blob/main/6_MetaModels.ipynb\" target=\"_parent\"><img src=\"https://colab.research.google.com/assets/colab-badge.svg\" alt=\"Open In Colab\"/></a>"
      ]
    },
    {
      "cell_type": "markdown",
      "source": [
        "# Combination of models\n",
        "We import the libraries that we are going to need:"
      ],
      "metadata": {
        "id": "X7T4z_H9CERP"
      }
    },
    {
      "cell_type": "code",
      "execution_count": 1,
      "metadata": {
        "id": "Hvg5dtqxsw0d"
      },
      "outputs": [],
      "source": [
        "import pandas as pd\n",
        "import numpy as np\n",
        "import seaborn as sns\n",
        "import matplotlib.pyplot as plt"
      ]
    },
    {
      "cell_type": "markdown",
      "source": [
        "## Voting\n",
        "\n",
        "We will start by implementing a voting strategy using **VotingClassifier**. We will use three models (although you can add more models if you want): a decision tree, K nearest neighbors, and Naive Bayes. We will apply it to the diabetes dataset, and perform a 10-fold evaluation."
      ],
      "metadata": {
        "id": "DLLLQbL2t9LU"
      }
    },
    {
      "cell_type": "code",
      "source": [
        "from sklearn.preprocessing import StandardScaler\n",
        "from sklearn.svm import LinearSVC\n",
        "from sklearn.ensemble import VotingClassifier\n",
        "from sklearn.tree import DecisionTreeClassifier\n",
        "from sklearn.neighbors import KNeighborsClassifier\n",
        "from sklearn.model_selection import cross_val_score\n",
        "from sklearn.naive_bayes import GaussianNB\n",
        "\n",
        "from sklearn.model_selection import train_test_split\n",
        "\n",
        "url = 'https://raw.githubusercontent.com/AbrahamOtero/MLiB/main/datasets/diabetes.csv'\n",
        "\n",
        "diabetes = pd.read_csv(url)\n",
        "\n",
        "# The featrures\n",
        "X = diabetes.iloc[:, :-1]\n",
        "# The class\n",
        "y = diabetes.iloc[:,-1]\n",
        "\n",
        "# Scale the features\n",
        "scaler = StandardScaler()\n",
        "X = scaler.fit_transform(X)\n",
        "\n",
        "# We will reserve a set of test data\n",
        "X_train, X_test, y_train, y_test = train_test_split(X, y, test_size=0.4, random_state=42)\n",
        "\n",
        "# We build the voting-based classifier\n",
        "voting_clf = VotingClassifier(\n",
        "    # Map of classifiers that \"vote\". We indicate their name (any string of characters) and the classifier\n",
        "    estimators=[\n",
        "        ('dt', DecisionTreeClassifier()),\n",
        "        ('knn', KNeighborsClassifier()),\n",
        "        ('gnb', GaussianNB())\n",
        "    ]\n",
        ")\n",
        "voting_clf.fit(X_train, y_train)\n",
        "\n",
        "scores = cross_val_score(voting_clf, X_train, y_train, cv=10, scoring=\"accuracy\")\n",
        "# Calculate and display the average accuracy value and standard deviation for the scores of each fold\n",
        "print(\"Mean accuracy:\", scores.mean())\n",
        "print(\"Standard deviation:\", scores.std())"
      ],
      "metadata": {
        "colab": {
          "base_uri": "https://localhost:8080/"
        },
        "id": "KxtGJ4-ctAG1",
        "outputId": "755c9fa9-0841-49a6-8c8b-68e712e44c75"
      },
      "execution_count": 2,
      "outputs": [
        {
          "output_type": "stream",
          "name": "stdout",
          "text": [
            "Mean accuracy: 0.7543478260869565\n",
            "Standard deviation: 0.05149008383620441\n"
          ]
        }
      ]
    },
    {
      "cell_type": "markdown",
      "source": [
        "Let's see how each of the three classifiers performs, as well as the performance of the voting model composed of the three classifiers. We will use the 10% of data that we saved for testing:"
      ],
      "metadata": {
        "id": "0e702xQuFFdO"
      }
    },
    {
      "cell_type": "code",
      "source": [
        "for name, clf in voting_clf.named_estimators_.items():\n",
        "    print(name, \"=\", clf.score(X_test, y_test))\n",
        "\n",
        "print(\"Voting: \", voting_clf.score(X_test, y_test))"
      ],
      "metadata": {
        "colab": {
          "base_uri": "https://localhost:8080/"
        },
        "id": "MvA2Rah4t0GW",
        "outputId": "fdea29c7-fd68-4b34-8886-d52a123005c3"
      },
      "execution_count": 3,
      "outputs": [
        {
          "output_type": "stream",
          "name": "stdout",
          "text": [
            "dt = 0.7175324675324676\n",
            "knn = 0.7142857142857143\n",
            "gnb = 0.7597402597402597\n",
            "Voting:  0.775974025974026\n"
          ]
        }
      ]
    },
    {
      "cell_type": "markdown",
      "source": [
        "We see that the performance of the model composed of the three classifiers is slightly higher than the performance of each of them. In practice this does not always have to be the case (especially if the errors of the different classifiers are correlated, or if one classifier is much better than the others). But we can often improve the performance of each individual model using voting.\n",
        "\n"
      ],
      "metadata": {
        "id": "dAPz1YBdFHY9"
      }
    },
    {
      "cell_type": "markdown",
      "source": [
        "## Bagging\n",
        "\n",
        "An obvious approach to the \"vote\" strategy is to use multiple versions of the same classifier over altered versions (using sampling) of the data set. For example, using multiple decision trees trained over different versions of a datset. We can do this easily by using **BaggingClassifier**:"
      ],
      "metadata": {
        "id": "cil0QXvTt_sk"
      }
    },
    {
      "cell_type": "code",
      "source": [
        "from sklearn.ensemble import BaggingClassifier\n",
        "from sklearn.tree import DecisionTreeClassifier\n",
        "\n",
        "# To build each model we will use a number of samples equal to half of those available.\n",
        "# This is a hyperparameter you may change\n",
        "n_smples = round(X_train.shape[1]/2)\n",
        "\n",
        "#We created a Bagging classifier composed of 100 decision trees\n",
        "bag_clf = BaggingClassifier(DecisionTreeClassifier(), n_estimators=100, max_samples=n_smples)\n",
        "socres = cross_val_score(bag_clf, X_train, y_train, cv=10, scoring=\"accuracy\")\n",
        "\n",
        "# Calculate and display the average accuracy value and standard deviation for the scores of each fold\n",
        "print(\"Mean accuracy:\", scores.mean())\n",
        "print(\"Standard deviation:\", scores.std())"
      ],
      "metadata": {
        "colab": {
          "base_uri": "https://localhost:8080/"
        },
        "id": "wHOLwXdRuDT0",
        "outputId": "2ce52c95-5cf7-4d44-aee0-1d17c592d9c9"
      },
      "execution_count": 4,
      "outputs": [
        {
          "output_type": "stream",
          "name": "stdout",
          "text": [
            "Mean accuracy: 0.7543478260869565\n",
            "Standard deviation: 0.05149008383620441\n"
          ]
        }
      ]
    },
    {
      "cell_type": "markdown",
      "source": [
        "### Random Forests\n",
        "\n",
        "A Random Forest is similar to a bag of decision trees. The main difference is that the decision trees are going to be built with different parameters (for example, maximum number of depth levels, a minimum number of instances in each different leaf). When using Bagging all the classifiers have been built with the same parameters, but training over different dataset created using sampling.\n"
      ],
      "metadata": {
        "id": "vYKnhsD_uRY0"
      }
    },
    {
      "cell_type": "code",
      "source": [
        "from sklearn.ensemble import RandomForestClassifier\n",
        "\n",
        "rnd_clf = RandomForestClassifier(n_estimators=100)\n",
        "\n",
        "scores = cross_val_score(rnd_clf, X_train, y_train, cv=10, scoring=\"accuracy\")\n",
        "\n",
        "# Calculate and display the average accuracy value and standard deviation for the scores of each fold\n",
        "print(\"Mean accuracy:\", scores.mean())\n",
        "print(\"Standard deviation:\", scores.std())"
      ],
      "metadata": {
        "colab": {
          "base_uri": "https://localhost:8080/"
        },
        "id": "_3C92yBOuS5T",
        "outputId": "9f38473d-4dc3-4c0d-9d1c-073d1fed71e2"
      },
      "execution_count": 5,
      "outputs": [
        {
          "output_type": "stream",
          "name": "stdout",
          "text": [
            "Mean accuracy: 0.7565217391304349\n",
            "Standard deviation: 0.04742918310711181\n"
          ]
        }
      ]
    },
    {
      "cell_type": "markdown",
      "source": [
        "An interesting property of the Scikit Learn random tree classifier is that it can evaluate how important each attribute is based on how many times it was chosen to be used by the decision trees. To do this we will have to re-fit the classifier on the data (as we used cross_val_score in the previous code):"
      ],
      "metadata": {
        "id": "HKgCQGpZvCF5"
      }
    },
    {
      "cell_type": "code",
      "source": [
        "# Fit the classifier\n",
        "rnd_clf.fit(X_train, y_train)\n",
        "\n",
        "# Feature relevance\n",
        "print ('Relevance Feature')\n",
        "for score, name in zip(rnd_clf.feature_importances_, diabetes.columns):\n",
        "    print(round(score, 2), '\\t' , name)"
      ],
      "metadata": {
        "colab": {
          "base_uri": "https://localhost:8080/"
        },
        "id": "wq-qIXS5ukvI",
        "outputId": "1cd9c124-c885-4141-f949-309d23dacef4"
      },
      "execution_count": 6,
      "outputs": [
        {
          "output_type": "stream",
          "name": "stdout",
          "text": [
            "Relevance Feature\n",
            "0.08 \t Pregnancies\n",
            "0.25 \t Glucose\n",
            "0.09 \t BloodPressure\n",
            "0.07 \t SkinThickness\n",
            "0.07 \t Insulin\n",
            "0.16 \t BMI\n",
            "0.12 \t DiabetesPedigreeFunction\n",
            "0.15 \t Age\n"
          ]
        }
      ]
    },
    {
      "cell_type": "markdown",
      "source": [
        "## Boosting\n",
        "\n",
        "To use Boosting we can use **AdaBoostClassifier**. In each iteration, this classifier places more emphasis on the errors made by the previous classifiers."
      ],
      "metadata": {
        "id": "e5XjWS2avQQ0"
      }
    },
    {
      "cell_type": "code",
      "source": [
        "from sklearn.ensemble import AdaBoostClassifier\n",
        "\n",
        "# algorithm= 'SAMME'avoids warning due to use of a deprecated strategy\n",
        "ada_clf = AdaBoostClassifier(DecisionTreeClassifier(), n_estimators=100, algorithm= 'SAMME')\n",
        "\n",
        "scores = cross_val_score(ada_clf, X_train, y_train, cv=10, scoring=\"accuracy\")\n",
        "\n",
        "# Calculate and display the average accuracy value and standard deviation for the scores of each fold\n",
        "print(\"Mean accuracy:\", scores.mean())\n",
        "print(\"Standard deviation:\", scores.std())\n",
        "\n"
      ],
      "metadata": {
        "colab": {
          "base_uri": "https://localhost:8080/"
        },
        "id": "6GbKADBIvH6U",
        "outputId": "4ebc500d-af39-450d-91d3-335cf8795a01"
      },
      "execution_count": 7,
      "outputs": [
        {
          "output_type": "stream",
          "name": "stdout",
          "text": [
            "Mean accuracy: 0.717391304347826\n",
            "Standard deviation: 0.04861017342390848\n"
          ]
        }
      ]
    },
    {
      "cell_type": "markdown",
      "source": [
        "## Stacking\n",
        "\n",
        "Finall we will use Stacking using the classifier **StackingClassifier**. It will have 3 level 0 models (decision trees, nearest neighbors and Bayesian classifier) ​​and the level 1 classifier will be a neural network."
      ],
      "metadata": {
        "id": "Xbfoxezov5Sk"
      }
    },
    {
      "cell_type": "code",
      "source": [
        "from sklearn.ensemble import StackingClassifier\n",
        "from sklearn.neural_network import MLPClassifier\n",
        "\n",
        "stacking_clf = StackingClassifier(\n",
        "     # Map of level 0 models\n",
        "    estimators=[\n",
        "        ('dt', DecisionTreeClassifier()),\n",
        "        ('knn', KNeighborsClassifier()),\n",
        "        ('gnb', GaussianNB())\n",
        "    ],\n",
        "     # Level 1 model than takes as inputs the predictions of the previous models\n",
        "    final_estimator=MLPClassifier(hidden_layer_sizes=(10,10))\n",
        ")\n",
        "\n",
        "scores = cross_val_score(stacking_clf, X_train, y_train, cv=10, scoring=\"accuracy\")\n",
        "\n",
        "# Calculate and display the average accuracy value and standard deviation for the scores of each fold\n",
        "print(\"Mean accuracy:\", scores.mean())\n",
        "print(\"Standard deviation:\", scores.std())"
      ],
      "metadata": {
        "colab": {
          "base_uri": "https://localhost:8080/"
        },
        "id": "VKQirudpv680",
        "outputId": "c61b8eb7-173e-4c2f-fbac-fb8ebfcc8fbe"
      },
      "execution_count": 8,
      "outputs": [
        {
          "output_type": "stream",
          "name": "stdout",
          "text": [
            "Mean accuracy: 0.7413043478260869\n",
            "Standard deviation: 0.053647663822839434\n"
          ]
        }
      ]
    },
    {
      "cell_type": "markdown",
      "source": [
        "# Evaluation of classifiers based on cost\n",
        "\n",
        "Unfortunately Scikit learn does not have functionality directly to evaluate classifiers based on cost. We will rely on the following code (obtained from the following repository https://github.com/Treers/MetaCost). You will need to run this to create the cost based classifier. If you use it in your project, you will also need to load this class in the environment."
      ],
      "metadata": {
        "id": "nuiR6dIQZuGz"
      }
    },
    {
      "cell_type": "code",
      "source": [
        "# Just run this code to loas the MetaCost classifier in the environment\n",
        "\n",
        "import pandas as pd\n",
        "import numpy as np\n",
        "from sklearn.base import clone\n",
        "\n",
        "class MetaCost(object):\n",
        "\n",
        "    \"\"\"A procedure for making error-based classifiers cost-sensitive\n",
        "\n",
        "    >>> from sklearn.datasets import load_iris\n",
        "    >>> from sklearn.linear_model import LogisticRegression\n",
        "    >>> import pandas as pd\n",
        "    >>> import numpy as np\n",
        "    >>> S = pd.DataFrame(load_iris().data)\n",
        "    >>> S['target'] = load_iris().target\n",
        "    >>> LR = LogisticRegression(solver='lbfgs', multi_class='multinomial')\n",
        "    >>> C = np.array([[0, 1, 1], [1, 0, 1], [1, 1, 0]])\n",
        "    >>> model = MetaCost(S, LR, C).fit('target', 3)\n",
        "    >>> model.predict_proba(load_iris().data[[2]])\n",
        "    >>> model.score(S[[0, 1, 2, 3]].values, S['target'])\n",
        "\n",
        "    .. note:: The form of the cost matrix C must be as follows:\n",
        "    +---------------+----------+----------+----------+\n",
        "    |  actual class |          |          |          |\n",
        "    +               |          |          |          |\n",
        "    |   +           | y(x)=j_1 | y(x)=j_2 | y(x)=j_3 |\n",
        "    |       +       |          |          |          |\n",
        "    |           +   |          |          |          |\n",
        "    |predicted class|          |          |          |\n",
        "    +---------------+----------+----------+----------+\n",
        "    |   h(x)=j_1    |    0     |    a     |     b    |\n",
        "    |   h(x)=j_2    |    c     |    0     |     d    |\n",
        "    |   h(x)=j_3    |    e     |    f     |     0    |\n",
        "    +---------------+----------+----------+----------+\n",
        "    | C = np.array([[0, a, b],[c, 0 , d],[e, f, 0]]) |\n",
        "    +------------------------------------------------+\n",
        "    \"\"\"\n",
        "    def __init__(self, S, L, C, m=50, n=1, p=True, q=True):\n",
        "        \"\"\"\n",
        "        :param S: The training set\n",
        "        :param L: A classification learning algorithm\n",
        "        :param C: A cost matrix\n",
        "        :param q: Is True iff all resamples are to be used  for each examples\n",
        "        :param m: The number of resamples to generate\n",
        "        :param n: The number of examples in each resample\n",
        "        :param p: Is True iff L produces class probabilities\n",
        "        \"\"\"\n",
        "        if not isinstance(S, pd.DataFrame):\n",
        "            raise ValueError('S must be a DataFrame object')\n",
        "        new_index = list(range(len(S)))\n",
        "        S.index = new_index\n",
        "        self.S = S\n",
        "        self.L = L\n",
        "        self.C = C\n",
        "        self.m = m\n",
        "        self.n = len(S) * n\n",
        "        self.p = p\n",
        "        self.q = q\n",
        "\n",
        "    def fit(self, flag, num_class):\n",
        "        \"\"\"\n",
        "        :param flag: The name of classification labels\n",
        "        :param num_class: The number of classes\n",
        "        :return: Classifier\n",
        "        \"\"\"\n",
        "        col = [col for col in self.S.columns if col != flag]\n",
        "        S_ = {}\n",
        "        M = []\n",
        "\n",
        "        for i in range(self.m):\n",
        "            # Let S_[i] be a resample of S with self.n examples\n",
        "            S_[i] = self.S.sample(n=self.n, replace=True)\n",
        "\n",
        "            X = S_[i][col].values\n",
        "            y = S_[i][flag].values\n",
        "\n",
        "            # Let M[i] = model produced by applying L to S_[i]\n",
        "            model = clone(self.L)\n",
        "            M.append(model.fit(X, y))\n",
        "\n",
        "        label = []\n",
        "        S_array = self.S[col].values\n",
        "        for i in range(len(self.S)):\n",
        "            if not self.q:\n",
        "                k_th = [k for k, v in S_.items() if i not in v.index]\n",
        "                M_ = list(np.array(M)[k_th])\n",
        "            else:\n",
        "                M_ = M\n",
        "\n",
        "            if self.p:\n",
        "                P_j = [model.predict_proba(S_array[[i]]) for model in M_]\n",
        "            else:\n",
        "                P_j = []\n",
        "                vector = [0] * num_class\n",
        "                for model in M_:\n",
        "                    vector[model.predict(S_array[[i]])] = 1\n",
        "                    P_j.append(vector)\n",
        "\n",
        "            # Calculate P(j|x)\n",
        "            P = np.array(np.mean(P_j, 0)).T\n",
        "\n",
        "            # Relabel\n",
        "            label.append(np.argmin(self.C.dot(P)))\n",
        "\n",
        "        # Model produced by applying L to S with relabeled y\n",
        "        X_train = self.S[col].values\n",
        "        y_train = np.array(label)\n",
        "        model_new = clone(self.L)\n",
        "        model_new.fit(X_train, y_train)\n",
        "\n",
        "        return model_new"
      ],
      "metadata": {
        "id": "8rNWkbHeSCaJ"
      },
      "execution_count": 9,
      "outputs": []
    },
    {
      "cell_type": "markdown",
      "source": [
        "We will start by training a decision tree without considering the cost using the diabees data set. We will show the accuracy and the confusion matrix:"
      ],
      "metadata": {
        "id": "cc6381C7kZ-e"
      }
    },
    {
      "cell_type": "code",
      "source": [
        "from sklearn.tree import DecisionTreeClassifier\n",
        "from sklearn.model_selection import train_test_split\n",
        "from sklearn.metrics import accuracy_score, confusion_matrix, ConfusionMatrixDisplay\n",
        "\n",
        "# Assuming X and y are already defined (from your previous code)\n",
        "# Create a Decision Tree classifier\n",
        "dt_classifier = DecisionTreeClassifier(random_state=42)\n",
        "\n",
        "# Train the classifier\n",
        "dt_classifier.fit(X_train, y_train)\n",
        "\n",
        "# Make predictions on the test set\n",
        "y_pred = dt_classifier.predict(X_test)\n",
        "\n",
        "# Calculate the accuracy\n",
        "accuracy = accuracy_score(y_test, y_pred)\n",
        "print(\"Accuracy:\", accuracy)\n",
        "\n",
        "# Calculate the confusion matrix\n",
        "confusion_mat_tree = confusion_matrix(y_test, y_pred)\n",
        "print(\"Confusion Matrix:\")\n",
        "print(confusion_mat_tree)\n",
        "\n",
        "# Display the confusion matrix\n",
        "disp = ConfusionMatrixDisplay(confusion_matrix=confusion_mat_tree,\n",
        "                              display_labels=dt_classifier.classes_)\n",
        "disp.plot()\n",
        "plt.show()"
      ],
      "metadata": {
        "colab": {
          "base_uri": "https://localhost:8080/",
          "height": 518
        },
        "id": "lJFybkI_kZPu",
        "outputId": "2b176f78-56db-4e51-b3cf-e71967bf275d"
      },
      "execution_count": 10,
      "outputs": [
        {
          "output_type": "stream",
          "name": "stdout",
          "text": [
            "Accuracy: 0.7305194805194806\n",
            "Confusion Matrix:\n",
            "[[152  54]\n",
            " [ 29  73]]\n"
          ]
        },
        {
          "output_type": "display_data",
          "data": {
            "text/plain": [
              "<Figure size 640x480 with 2 Axes>"
            ],
            "image/png": "[encoded data removed]"
          },
          "metadata": {}
        }
      ]
    },
    {
      "cell_type": "markdown",
      "source": [
        "Note that the confusion matrix generated by SKlearn has the true classes in the rows, and the predicted classes in the columns. However, if you look at the **MetaCost documentation, it expects just the opposite**: true classes in the columns and predicted classes in the rows. We will need to take this into account when interpreting the results and calculating the costs.\n",
        "\n",
        "Now we shall train MetaCost, but with a cost matrix where all errors have the same cost."
      ],
      "metadata": {
        "id": "rSsp_xq3lvFt"
      }
    },
    {
      "cell_type": "code",
      "source": [
        "# Define the cost matrix\n",
        "cost_matrix = np.array([[0, 1], [1, 0]])\n",
        "\n",
        "# Combine X_train and y_train into a single DataFrame\n",
        "# MetaCost needs all the data to be arranged in a DataFrame\n",
        "train_df = pd.DataFrame(data=X_train)\n",
        "train_df['Outcome'] = pd.array(y_train)\n",
        "\n",
        "# Create a MetaCost object with a DecisionTreeClassifier\n",
        "metacost_model = MetaCost(train_df, DecisionTreeClassifier(random_state=42), cost_matrix)\n",
        "\n",
        "# Fit the model to the training data.\n",
        "# We need to indicate the colum of the class ('Outcome') and the number of classes (2)\n",
        "model = metacost_model.fit('Outcome', 2)\n",
        "\n",
        "# Make predictions on the test data\n",
        "y_pred = model.predict(X_test)\n",
        "\n",
        "# Calculate the accuracy of the model\n",
        "accuracy = accuracy_score(y_test, y_pred)\n",
        "print(\"Accuracy:\", accuracy)\n",
        "\n",
        "# Calculate the confusion matrix\n",
        "confusion_mat = confusion_matrix(y_test, y_pred)\n",
        "print(\"Confusion Matrix:\")\n",
        "print(confusion_mat)"
      ],
      "metadata": {
        "colab": {
          "base_uri": "https://localhost:8080/"
        },
        "id": "yUUCouNikq4e",
        "outputId": "5f53b87a-ea66-445d-fb39-3f9966e10e90"
      },
      "execution_count": 11,
      "outputs": [
        {
          "output_type": "stream",
          "name": "stdout",
          "text": [
            "Accuracy: 0.7305194805194806\n",
            "Confusion Matrix:\n",
            "[[152  54]\n",
            " [ 29  73]]\n"
          ]
        }
      ]
    },
    {
      "cell_type": "markdown",
      "source": [
        "Note how by using the same cost for all errors we have obtained exactly the same confusion matrix as in the previous case (the standard classifier).\n",
        "\n",
        "Now we will carry out the training considering that classifying a diabetic patient as healthy has a cost 10 times higher than classifying a healthy patient as diabetic.\n",
        "\n",
        "(Note: The MetaCost classifier does not provide an interface that permits an easy control of its random state. If you run code that uses this classifier, you may get slightly different results than the text indicates for this reason.)"
      ],
      "metadata": {
        "id": "xSALARA-mB5h"
      }
    },
    {
      "cell_type": "code",
      "source": [
        "# Define the cost matrix\n",
        "cost_matrix = np.array([[0, 10], [1, 0]])\n",
        "\n",
        "# Create a MetaCost object with a DecisionTreeClassifier\n",
        "metacost_model = MetaCost(train_df, DecisionTreeClassifier(random_state=42), cost_matrix)\n",
        "\n",
        "# Fit the model to the training data.\n",
        "# We need to indicate the colum of the class ('Outcome') and the number of classes (2)\n",
        "model = metacost_model.fit('Outcome', 2)\n",
        "\n",
        "# Make predictions on the test data\n",
        "y_pred = model.predict(X_test)\n",
        "\n",
        "# Calculate the accuracy of the model\n",
        "accuracy = accuracy_score(y_test, y_pred)\n",
        "print(\"Accuracy:\", accuracy)\n",
        "\n",
        "# Calculate the confusion matrix\n",
        "confusion_mat = confusion_matrix(y_test, y_pred)\n",
        "print(\"Confusion Matrix:\")\n",
        "print(confusion_mat)\n",
        "\n",
        "# Calculate the cost of the classifier\n",
        "# We have to transpose the cost matrix because the confusion matrix arranges\n",
        "# the rows and columns in the opposite way\n",
        "cost = np.sum(confusion_mat * np.transpose(cost_matrix))\n",
        "\n",
        "# Print the cost\n",
        "print(\"Cost:\", cost)\n",
        "# Print the cost per instance\n",
        "print(\"Cost per instance:\", cost/len(y_test))"
      ],
      "metadata": {
        "colab": {
          "base_uri": "https://localhost:8080/"
        },
        "id": "Y4-r9IWamBRs",
        "outputId": "3b9f7011-0d55-4d61-9d3b-5404be38e13a"
      },
      "execution_count": 12,
      "outputs": [
        {
          "output_type": "stream",
          "name": "stdout",
          "text": [
            "Accuracy: 0.6201298701298701\n",
            "Confusion Matrix:\n",
            "[[100 106]\n",
            " [ 11  91]]\n",
            "Cost: 216\n",
            "Cost per instance: 0.7012987012987013\n"
          ]
        }
      ]
    },
    {
      "cell_type": "markdown",
      "source": [
        "The classifier's performance has dropped from about 73% to 67%. Its cost is 216 (0.70 per instance). What was the cost of the classifier that had an accuracy of 73%?"
      ],
      "metadata": {
        "id": "sBRZXZuF3AtX"
      }
    },
    {
      "cell_type": "code",
      "source": [
        "print(confusion_mat_tree)\n",
        "\n",
        "# Calculate the cost of the classifier\n",
        "cost = np.sum(confusion_mat_tree * np.transpose(cost_matrix))\n",
        "\n",
        "# Print the cost\n",
        "print(\"Cost:\", cost)\n",
        "# Print the cost per instance\n",
        "print(\"Cost per instance:\", cost/len(y_test))"
      ],
      "metadata": {
        "colab": {
          "base_uri": "https://localhost:8080/"
        },
        "id": "f9Sat5A5miS9",
        "outputId": "886464ac-175e-4841-b5f1-a8877213f37b"
      },
      "execution_count": 13,
      "outputs": [
        {
          "output_type": "stream",
          "name": "stdout",
          "text": [
            "[[152  54]\n",
            " [ 29  73]]\n",
            "Cost: 344\n",
            "Cost per instance: 1.1168831168831168\n"
          ]
        }
      ]
    },
    {
      "cell_type": "markdown",
      "source": [
        "The cost of the classifier that had an accuracy of 73% is 344  (1.12 per instance), compared to the cost of 209. The classifier trained with MetaCost has lower accuracy, but lower cost. The classifier trained in the normal way has higher accuracy, but also higher cost. It makes fewer errors, but the type of errors it makes are the ones we want to avoid (they have higher cost).\n",
        "\n",
        "Next, we will perform a cost-based training and evaluation using a 10-fold validation. MetaCost is not a SKlearn Predictor (it does not implement all the methods it should) so we will have to generate the folds manually."
      ],
      "metadata": {
        "id": "aPC171h31h8W"
      }
    },
    {
      "cell_type": "code",
      "source": [
        "from sklearn.model_selection import StratifiedKFold\n",
        "\n",
        "# The featrures\n",
        "X = diabetes.iloc[:, :-1]\n",
        "# The class\n",
        "y = diabetes.iloc[:,-1]\n",
        "\n",
        "# Define the number of folds\n",
        "n_splits = 10\n",
        "\n",
        "# Create a StratifiedKFold object\n",
        "skf = StratifiedKFold(n_splits=n_splits, shuffle=True, random_state=42)\n",
        "\n",
        "# Define the  classifier\n",
        "classifier = DecisionTreeClassifier(random_state=42)\n",
        "\n",
        "# Define the cost matrix\n",
        "cost_matrix = np.array([[0, 10], [1, 0]])\n",
        "\n",
        "# Create an empty list to store the accuracy and cost scores for each fold\n",
        "accuracy_scores = []\n",
        "cost_scores = []\n",
        "\n",
        "# Iterate through the folds\n",
        "for train_index, test_index in skf.split(X, y):\n",
        "  # Split the data into training and validation sets for this fold\n",
        "  X_train_fold, X_val_fold = X.iloc[train_index], X.iloc[test_index]\n",
        "  y_train_fold, y_val_fold = y.iloc[train_index], y.iloc[test_index]\n",
        "\n",
        "  # Create a DataFrame for MetaCost\n",
        "  train_df_fold = pd.DataFrame(data=X_train_fold)\n",
        "  train_df_fold['Outcome'] = pd.array(y_train_fold)\n",
        "\n",
        "  # Create and fit the MetaCost model for this fold\n",
        "  metacost_model = MetaCost(train_df_fold, classifier, cost_matrix)\n",
        "  model = metacost_model.fit('Outcome', 2)\n",
        "\n",
        "  # Make predictions on the validation set for this fold\n",
        "  y_pred_fold = model.predict(X_val_fold)\n",
        "\n",
        "  # Calculate the accuracy for this fold\n",
        "  accuracy_fold = accuracy_score(y_val_fold, y_pred_fold)\n",
        "  accuracy_scores.append(accuracy_fold)\n",
        "\n",
        "  # Calculate the cost for this fold\n",
        "  confusion_mat = confusion_matrix(y_val_fold, y_pred_fold)\n",
        "  cost = np.sum(confusion_mat * np.transpose(cost_matrix))\n",
        "  cost_scores.append(cost)\n",
        "\n",
        "#End of the cross fold validation loop\n",
        "\n",
        "# Calculate and display the average accuracy and cost across all folds\n",
        "print(\"Mean accuracy:\", np.mean(accuracy_scores))\n",
        "print(\"Standard deviation:\", np.std(accuracy_scores))\n",
        "print(\"Mean cost:\", np.mean(cost_scores))\n",
        "print(\"Standard deviation:\", np.std(cost_scores))\n",
        "divisor = len (y_val_fold)\n",
        "cost_scores_per_instance = [x / divisor for x in cost_scores]\n",
        "print(\"Mean cost:\", np.mean(cost_scores_per_instance))\n",
        "print(\"Standard deviation:\", np.std(cost_scores_per_instance))"
      ],
      "metadata": {
        "id": "oHJGwcnv9DtE",
        "outputId": "c494974d-3ce9-455d-a729-7f24e7f5c34f",
        "colab": {
          "base_uri": "https://localhost:8080/"
        }
      },
      "execution_count": 14,
      "outputs": [
        {
          "output_type": "stream",
          "name": "stdout",
          "text": [
            "Mean accuracy: 0.6573137388926863\n",
            "Standard deviation: 0.06315953140772021\n",
            "Mean cost: 63.2\n",
            "Standard deviation: 23.51510153071851\n",
            "Mean cost: 0.8315789473684211\n",
            "Standard deviation: 0.30940923066734877\n"
          ]
        }
      ]
    },
    {
      "cell_type": "markdown",
      "source": [
        "Note that when comparing these results to the previous ones the total cost is not comparable, as the size of the data sets when using 10-fold validation is quite different. You should make the comparison at the cost per instance level. The cost is 0.83 per instance.\n",
        "\n",
        "Let's compare these results to performing a 10-fold validation directly on the classifier, without using cost-based training (although we will also calculate the cost metric for this classifier, which has not taken cost into account during its training):"
      ],
      "metadata": {
        "id": "wBBd2ZEl-9vj"
      }
    },
    {
      "cell_type": "code",
      "source": [
        "# Create a StratifiedKFold object\n",
        "skf = StratifiedKFold(n_splits=n_splits, shuffle=True, random_state=42)\n",
        "\n",
        "# Define the cost matrix; it will only be used to evalutate; not to train\n",
        "cost_matrix = np.array([[0, 10], [1, 0]])\n",
        "\n",
        "# Create an empty list to store the accuracy and cost scores for each fold\n",
        "accuracy_scores = []\n",
        "cost_scores = []\n",
        "\n",
        "# Iterate through the folds\n",
        "for train_index, test_index in skf.split(X, y):\n",
        "  # Split the data into training and validation sets for this fold\n",
        "  X_train_fold, X_val_fold = X.iloc[train_index], X.iloc[test_index]\n",
        "  y_train_fold, y_val_fold = y.iloc[train_index], y.iloc[test_index]\n",
        "\n",
        "  # Create and fit the model for this fold\n",
        "  model = DecisionTreeClassifier(random_state=42)\n",
        "  model.fit(X_train_fold, y_train_fold)\n",
        "\n",
        "  # Make predictions on the validation set for this fold\n",
        "  y_pred_fold = model.predict(X_val_fold)\n",
        "\n",
        "  # Calculate the accuracy for this fold\n",
        "  accuracy_fold = accuracy_score(y_val_fold, y_pred_fold)\n",
        "  accuracy_scores.append(accuracy_fold)\n",
        "\n",
        "  # Calculate the cost for this fold\n",
        "  confusion_mat = confusion_matrix(y_val_fold, y_pred_fold)\n",
        "  cost = np.sum(confusion_mat * np.transpose(cost_matrix))\n",
        "  cost_scores.append(cost)\n",
        "\n",
        "#End of the cross fold validation loop\n",
        "\n",
        "# Calculate and display the average accuracy and cost across all folds\n",
        "print(\"Mean accuracy:\", np.mean(accuracy_scores))\n",
        "print(\"Standard deviation:\", np.std(accuracy_scores))\n",
        "print(\"Mean cost:\", np.mean(cost_scores))\n",
        "print(\"Standard deviation:\", np.std(cost_scores))\n",
        "divisor = len (y_val_fold)\n",
        "cost_scores_per_instance = [x / divisor for x in cost_scores]\n",
        "print(\"Mean cost:\", np.mean(cost_scores_per_instance))\n",
        "print(\"Standard deviation:\", np.std(cost_scores_per_instance))"
      ],
      "metadata": {
        "id": "nim6OWEUBulh",
        "outputId": "48412a44-39bc-49e7-8611-0e4bcdea1589",
        "colab": {
          "base_uri": "https://localhost:8080/"
        }
      },
      "execution_count": 15,
      "outputs": [
        {
          "output_type": "stream",
          "name": "stdout",
          "text": [
            "Mean accuracy: 0.702939166097061\n",
            "Standard deviation: 0.060908555498988284\n",
            "Mean cost: 125.4\n",
            "Standard deviation: 28.281442678901655\n",
            "Mean cost: 1.65\n",
            "Standard deviation: 0.37212424577502173\n"
          ]
        }
      ]
    },
    {
      "cell_type": "markdown",
      "source": [
        "The average cost per instance is now 1.65+-0.37, compared to 0.83+-0.31 when we performed a cost-based evaluation. However, the accuracy was 0.66 +- 0.06, while in cost-based training the accuracy was 0.62 +-0.06. As always, we have had to sacrifice some accuracy to decrease the cost.\n",
        "\n"
      ],
      "metadata": {
        "id": "yXLKThDNBpox"
      }
    }
  ]
}