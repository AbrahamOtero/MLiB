{
  "nbformat": 4,
  "nbformat_minor": 0,
  "metadata": {
    "colab": {
      "provenance": [],
      "authorship_tag": "ABX9TyMURtk4gMZQ/eFWsw2l9jvz",
      "include_colab_link": true
    },
    "kernelspec": {
      "name": "python3",
      "display_name": "Python 3"
    },
    "language_info": {
      "name": "python"
    }
  },
  "cells": [
    {
      "cell_type": "markdown",
      "metadata": {
        "id": "view-in-github",
        "colab_type": "text"
      },
      "source": [
        "<a href=\"https://colab.research.google.com/github/AbrahamOtero/MLiB/blob/main/6_MetaModels.ipynb\" target=\"_parent\"><img src=\"https://colab.research.google.com/assets/colab-badge.svg\" alt=\"Open In Colab\"/></a>"
      ]
    },
    {
      "cell_type": "code",
      "execution_count": null,
      "metadata": {
        "id": "Hvg5dtqxsw0d"
      },
      "outputs": [],
      "source": [
        "import pandas as pd\n",
        "import numpy as np\n",
        "import seaborn as sns\n",
        "import matplotlib.pyplot as plt"
      ]
    },
    {
      "cell_type": "markdown",
      "source": [
        "## Voting"
      ],
      "metadata": {
        "id": "DLLLQbL2t9LU"
      }
    },
    {
      "cell_type": "code",
      "source": [
        "from sklearn.preprocessing import StandardScaler\n",
        "from sklearn.svm import LinearSVC\n",
        "from sklearn.ensemble import RandomForestClassifier, VotingClassifier\n",
        "from sklearn.linear_model import LogisticRegression\n",
        "from sklearn.model_selection import cross_val_score\n",
        "from sklearn.svm import SVC\n",
        "\n",
        "from sklearn.model_selection import train_test_split\n",
        "\n",
        "url = 'https://raw.githubusercontent.com/AbrahamOtero/MLiB/main/datasets/diabetes.csv'\n",
        "\n",
        "diabetes = pd.read_csv(url)\n",
        "\n",
        "# The featrures\n",
        "X = diabetes.iloc[:, :-1]\n",
        "# The class\n",
        "y = diabetes.iloc[:,-1]\n",
        "\n",
        "scaler = StandardScaler()\n",
        "X = scaler.fit_transform(X)\n",
        "\n",
        "X_train, X_test, y_train, y_test = train_test_split(X, y, random_state=42)\n",
        "\n",
        "voting_clf = VotingClassifier(\n",
        "    estimators=[\n",
        "        ('lr', LogisticRegression(random_state=42)),\n",
        "        ('rf', RandomForestClassifier(random_state=42)),\n",
        "        ('svc', SVC(random_state=42))\n",
        "    ]\n",
        ")\n",
        "voting_clf.fit(X_train, y_train)\n",
        "\n",
        "# dual='auto' avoids the generation of warnings.\n",
        "# It chooses the algorithm to use for training depending on the size of the data set and the number of features.\n",
        "svm_clf = LinearSVC(  dual='auto',  random_state=42)\n",
        "\n",
        "cross_val_score(voting_clf, X, y, cv=10, scoring=\"accuracy\")"
      ],
      "metadata": {
        "colab": {
          "base_uri": "https://localhost:8080/"
        },
        "id": "KxtGJ4-ctAG1",
        "outputId": "4b08119f-0721-4a10-f3e2-e750edc4ae6b"
      },
      "execution_count": null,
      "outputs": [
        {
          "output_type": "execute_result",
          "data": {
            "text/plain": [
              "array([0.72727273, 0.79220779, 0.77922078, 0.7012987 , 0.74025974,\n",
              "       0.79220779, 0.79220779, 0.83116883, 0.68421053, 0.82894737])"
            ]
          },
          "metadata": {},
          "execution_count": 7
        }
      ]
    },
    {
      "cell_type": "code",
      "source": [
        "for name, clf in voting_clf.named_estimators_.items():\n",
        "    print(name, \"=\", clf.score(X_test, y_test))"
      ],
      "metadata": {
        "colab": {
          "base_uri": "https://localhost:8080/"
        },
        "id": "MvA2Rah4t0GW",
        "outputId": "0155c5aa-3086-44db-a18b-fcba06c32c95"
      },
      "execution_count": null,
      "outputs": [
        {
          "output_type": "stream",
          "name": "stdout",
          "text": [
            "lr = 0.7291666666666666\n",
            "rf = 0.734375\n",
            "svc = 0.7291666666666666\n"
          ]
        }
      ]
    },
    {
      "cell_type": "markdown",
      "source": [
        "## Bagging"
      ],
      "metadata": {
        "id": "cil0QXvTt_sk"
      }
    },
    {
      "cell_type": "code",
      "source": [
        "from sklearn.ensemble import BaggingClassifier\n",
        "from sklearn.tree import DecisionTreeClassifier\n",
        "\n",
        "bag_clf = BaggingClassifier(DecisionTreeClassifier(), n_estimators=500,\n",
        "                            max_samples=100, n_jobs=-1, random_state=42)\n",
        "cross_val_score(bag_clf, X, y, cv=10, scoring=\"accuracy\")"
      ],
      "metadata": {
        "colab": {
          "base_uri": "https://localhost:8080/"
        },
        "id": "wHOLwXdRuDT0",
        "outputId": "0d44a552-35c9-4c2d-a372-8d1ca859baa2"
      },
      "execution_count": null,
      "outputs": [
        {
          "output_type": "execute_result",
          "data": {
            "text/plain": [
              "array([0.76623377, 0.81818182, 0.76623377, 0.68831169, 0.71428571,\n",
              "       0.79220779, 0.79220779, 0.81818182, 0.72368421, 0.81578947])"
            ]
          },
          "metadata": {},
          "execution_count": 10
        }
      ]
    },
    {
      "cell_type": "markdown",
      "source": [
        "### Random Forests\n",
        "\n",
        "A Random Forest is equivalent to a bag of decision trees:\n"
      ],
      "metadata": {
        "id": "vYKnhsD_uRY0"
      }
    },
    {
      "cell_type": "code",
      "source": [
        "from sklearn.ensemble import RandomForestClassifier\n",
        "\n",
        "rnd_clf = RandomForestClassifier(n_estimators=500, max_leaf_nodes=16,\n",
        "                                 n_jobs=-1, random_state=42)\n",
        "\n",
        "cross_val_score(rnd_clf, X, y, cv=10, scoring=\"accuracy\")"
      ],
      "metadata": {
        "colab": {
          "base_uri": "https://localhost:8080/"
        },
        "id": "_3C92yBOuS5T",
        "outputId": "dc25ff0a-05e7-4ec5-c099-b02469a9524c"
      },
      "execution_count": null,
      "outputs": [
        {
          "output_type": "execute_result",
          "data": {
            "text/plain": [
              "array([0.76623377, 0.76623377, 0.76623377, 0.68831169, 0.7012987 ,\n",
              "       0.81818182, 0.77922078, 0.83116883, 0.69736842, 0.80263158])"
            ]
          },
          "metadata": {},
          "execution_count": 13
        }
      ]
    },
    {
      "cell_type": "markdown",
      "source": [
        "Feature importance"
      ],
      "metadata": {
        "id": "HKgCQGpZvCF5"
      }
    },
    {
      "cell_type": "code",
      "source": [
        "rnd_clf.fit(X, y)\n",
        "\n",
        "for score, name in zip(rnd_clf.feature_importances_, diabetes.columns):\n",
        "    print(round(score, 2), name)"
      ],
      "metadata": {
        "colab": {
          "base_uri": "https://localhost:8080/"
        },
        "id": "wq-qIXS5ukvI",
        "outputId": "dcc71ce2-72fe-43fe-efba-9d7bafc9f099"
      },
      "execution_count": null,
      "outputs": [
        {
          "output_type": "stream",
          "name": "stdout",
          "text": [
            "0.07 Pregnancies\n",
            "0.38 Glucose\n",
            "0.04 BloodPressure\n",
            "0.04 SkinThickness\n",
            "0.06 Insulin\n",
            "0.18 BMI\n",
            "0.08 DiabetesPedigreeFunction\n",
            "0.15 Age\n"
          ]
        }
      ]
    },
    {
      "cell_type": "markdown",
      "source": [
        "## Boosting"
      ],
      "metadata": {
        "id": "e5XjWS2avQQ0"
      }
    },
    {
      "cell_type": "code",
      "source": [
        "from sklearn.ensemble import AdaBoostClassifier\n",
        "\n",
        "ada_clf = AdaBoostClassifier(\n",
        "    DecisionTreeClassifier(max_depth=1), n_estimators=30,\n",
        "    learning_rate=0.5, random_state=42)\n",
        "\n",
        "cross_val_score(ada_clf, X, y, cv=10, scoring=\"accuracy\")"
      ],
      "metadata": {
        "colab": {
          "base_uri": "https://localhost:8080/"
        },
        "id": "6GbKADBIvH6U",
        "outputId": "64a25f54-763c-469c-c4ad-4f976a396e98"
      },
      "execution_count": null,
      "outputs": [
        {
          "output_type": "execute_result",
          "data": {
            "text/plain": [
              "array([0.72727273, 0.79220779, 0.77922078, 0.66233766, 0.71428571,\n",
              "       0.76623377, 0.81818182, 0.80519481, 0.73684211, 0.81578947])"
            ]
          },
          "metadata": {},
          "execution_count": 17
        }
      ]
    },
    {
      "cell_type": "markdown",
      "source": [
        "### Gradient Boosting\n",
        "\n",
        "**GradientBoostingRegressor**\n"
      ],
      "metadata": {
        "id": "Tzr2FpaEvvmD"
      }
    },
    {
      "cell_type": "code",
      "source": [
        "from sklearn.ensemble import GradientBoostingClassifier\n",
        "\n",
        "\n",
        "gbrt = GradientBoostingClassifier(max_depth=2, n_estimators=3,\n",
        "                                 learning_rate=1.0, random_state=42)\n",
        "\n",
        "\n",
        "cross_val_score(gbrt, X, y, cv=10, scoring=\"accuracy\")\n",
        "\n"
      ],
      "metadata": {
        "colab": {
          "base_uri": "https://localhost:8080/"
        },
        "id": "ouurvOsbvbWF",
        "outputId": "0ec09aab-b012-4000-f179-a1151bc7f1a5"
      },
      "execution_count": null,
      "outputs": [
        {
          "output_type": "execute_result",
          "data": {
            "text/plain": [
              "array([0.71428571, 0.77922078, 0.76623377, 0.63636364, 0.72727273,\n",
              "       0.76623377, 0.77922078, 0.80519481, 0.69736842, 0.78947368])"
            ]
          },
          "metadata": {},
          "execution_count": 18
        }
      ]
    },
    {
      "cell_type": "markdown",
      "source": [
        "## Stacking"
      ],
      "metadata": {
        "id": "Xbfoxezov5Sk"
      }
    },
    {
      "cell_type": "code",
      "source": [
        "from sklearn.ensemble import StackingClassifier\n",
        "\n",
        "stacking_clf = StackingClassifier(\n",
        "    estimators=[\n",
        "        ('lr', LogisticRegression(random_state=42)),\n",
        "        ('rf', RandomForestClassifier(random_state=42)),\n",
        "        ('svc', SVC(probability=True, random_state=42))\n",
        "    ],\n",
        "    final_estimator=RandomForestClassifier(random_state=43),\n",
        "    cv=5  # number of cross-validation folds\n",
        ")\n",
        "\n",
        "\n",
        "cross_val_score(stacking_clf, X, y, cv=10, scoring=\"accuracy\")\n",
        "\n",
        "\n"
      ],
      "metadata": {
        "colab": {
          "base_uri": "https://localhost:8080/"
        },
        "id": "VKQirudpv680",
        "outputId": "82cd25d0-e0ea-4408-829b-b2701db961ab"
      },
      "execution_count": null,
      "outputs": [
        {
          "output_type": "execute_result",
          "data": {
            "text/plain": [
              "array([0.72727273, 0.77922078, 0.71428571, 0.66233766, 0.77922078,\n",
              "       0.77922078, 0.79220779, 0.80519481, 0.73684211, 0.75      ])"
            ]
          },
          "metadata": {},
          "execution_count": 19
        }
      ]
    }
  ]
}