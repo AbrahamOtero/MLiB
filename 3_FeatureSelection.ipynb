{
  "nbformat": 4,
  "nbformat_minor": 0,
  "metadata": {
    "colab": {
      "provenance": [],
      "toc_visible": true,
      "authorship_tag": "ABX9TyO6bVtJDYbgnC7XGcqwHvlO",
      "include_colab_link": true
    },
    "kernelspec": {
      "name": "python3",
      "display_name": "Python 3"
    },
    "language_info": {
      "name": "python"
    }
  },
  "cells": [
    {
      "cell_type": "markdown",
      "metadata": {
        "id": "view-in-github",
        "colab_type": "text"
      },
      "source": [
        "<a href=\"https://colab.research.google.com/github/AbrahamOtero/MLiB/blob/main/3_FeatureSelection.ipynb\" target=\"_parent\"><img src=\"https://colab.research.google.com/assets/colab-badge.svg\" alt=\"Open In Colab\"/></a>"
      ]
    },
    {
      "cell_type": "markdown",
      "source": [
        "#Feature selection\n",
        "\n",
        "##Set up\n",
        "\n",
        "We import the libraries that we are going to need"
      ],
      "metadata": {
        "id": "CZxBwrxtVUsy"
      }
    },
    {
      "cell_type": "code",
      "execution_count": 1,
      "metadata": {
        "id": "lvRI0z-eVIky"
      },
      "outputs": [],
      "source": [
        "\n",
        "import pandas as pd\n",
        "import numpy as np\n",
        "import seaborn as sns\n",
        "import matplotlib.pyplot as plt"
      ]
    },
    {
      "cell_type": "markdown",
      "source": [
        "We will first import the iris data set:"
      ],
      "metadata": {
        "id": "LXggv4vzZ4Gc"
      }
    },
    {
      "cell_type": "code",
      "source": [
        "url = 'https://raw.githubusercontent.com/AbrahamOtero/MLiB/main/datasets/iris.csv'\n",
        "\n",
        "iris = pd.read_csv(url)"
      ],
      "metadata": {
        "id": "tsdAD6yYZ3Y8"
      },
      "execution_count": 2,
      "outputs": []
    },
    {
      "cell_type": "markdown",
      "source": [
        "## Filter feature selection methods\n",
        "\n",
        "To implement different filtering method strategies, **SelectKBest** can be used, which selects the number of attributes that we indicate in its constructor (through the parameter k) based on some score function. In this case, the chi-square function will be used. If the score_func used is **'mutual_info_classif'** it will use the information gain criterion. In the case where the class is metric, the **'f_regression'** criterion can be used."
      ],
      "metadata": {
        "id": "R2us__rky2RL"
      }
    },
    {
      "cell_type": "code",
      "source": [
        "\n",
        "from sklearn.feature_selection import SelectKBest\n",
        "from sklearn.feature_selection import chi2\n",
        "\n",
        "# X will be the matrix with the features that we are going to evaluate and y the class\n",
        "X = iris.drop('class', axis=1)\n",
        "y = iris['class']\n",
        "\n",
        "# Apply SelectKBest with chi2 to select the 2 best attributes\n",
        "best_features = SelectKBest(score_func=chi2, k=2)\n",
        "fit = best_features.fit(X, y)\n",
        "\n",
        "# Get the indexes of the selected attributes\n",
        "feature_indices = fit.get_support(indices=True)\n",
        "\n",
        "# Print the names of the selected attributes\n",
        "print(X.columns[feature_indices])\n"
      ],
      "metadata": {
        "colab": {
          "base_uri": "https://localhost:8080/"
        },
        "id": "MSkkfZDUaEdc",
        "outputId": "72c52482-3059-4a80-e60e-feab94c6360e"
      },
      "execution_count": 3,
      "outputs": [
        {
          "output_type": "stream",
          "name": "stdout",
          "text": [
            "Index(['petal.length', 'petal.width'], dtype='object')\n"
          ]
        }
      ]
    },
    {
      "cell_type": "markdown",
      "source": [
        "From the SlectKBest Estimator we can also see the scores obtained for each attribute:"
      ],
      "metadata": {
        "id": "xQqX501v0wGX"
      }
    },
    {
      "cell_type": "code",
      "source": [
        "# Get the chi2 scores for each feature\n",
        "feature_scores = fit.scores_\n",
        "\n",
        "# Create a DataFrame to store the scores and feature names\n",
        "df_scores = pd.DataFrame({'Feature': X.columns, 'Chi2 Score': feature_scores})\n",
        "\n",
        "# Sort the DataFrame by Chi2 Score in descending order\n",
        "df_scores = df_scores.sort_values(by='Chi2 Score', ascending=False)\n",
        "\n",
        "# Print the sorted scores\n",
        "print(df_scores)\n"
      ],
      "metadata": {
        "id": "rwvvhgWs0G1s",
        "outputId": "4a4a0ce3-a8c5-4b05-f780-07bb96408630",
        "colab": {
          "base_uri": "https://localhost:8080/"
        }
      },
      "execution_count": 4,
      "outputs": [
        {
          "output_type": "stream",
          "name": "stdout",
          "text": [
            "        Feature  Chi2 Score\n",
            "2  petal.length  116.312613\n",
            "3   petal.width   67.048360\n",
            "0  sepal.length   10.817821\n",
            "1   sepal.width    3.710728\n"
          ]
        }
      ]
    },
    {
      "cell_type": "markdown",
      "source": [
        "Let's now see what scores we would get using information gain:"
      ],
      "metadata": {
        "id": "0A9Dnyjj2QwH"
      }
    },
    {
      "cell_type": "code",
      "source": [
        "from sklearn.feature_selection import mutual_info_classif\n",
        "\n",
        "# Apply mutual_info_classif to get the scores\n",
        "feature_scores = mutual_info_classif(X, y)\n",
        "\n",
        "# Create a DataFrame to store the scores and feature names\n",
        "df_scores = pd.DataFrame({'Feature': X.columns, 'Mutual Info Score': feature_scores})\n",
        "\n",
        "# Sort the DataFrame by Mutual Info Score in descending order\n",
        "df_scores = df_scores.sort_values(by='Mutual Info Score', ascending=False)\n",
        "\n",
        "# Print the sorted scores\n",
        "print(df_scores)\n"
      ],
      "metadata": {
        "id": "h8WzRSWK12I2",
        "outputId": "23fc3e09-689e-4993-9393-ef2e2b59b0c5",
        "colab": {
          "base_uri": "https://localhost:8080/"
        }
      },
      "execution_count": 5,
      "outputs": [
        {
          "output_type": "stream",
          "name": "stdout",
          "text": [
            "        Feature  Mutual Info Score\n",
            "2  petal.length           0.984524\n",
            "3   petal.width           0.976850\n",
            "0  sepal.length           0.493449\n",
            "1   sepal.width           0.245123\n"
          ]
        }
      ]
    },
    {
      "cell_type": "markdown",
      "source": [
        "## Wrapper feature selection methods\n",
        "\n",
        "To carry out feature selection based on model wrappers, we can use the **RFE** (Recursive feature elimination)class, to which we must pass the model we want to use for the selection. In the example below, the model will be a decision tree."
      ],
      "metadata": {
        "id": "Mn8ewMaj2kKJ"
      }
    },
    {
      "cell_type": "code",
      "source": [
        "from sklearn.feature_selection import RFE\n",
        "from sklearn.tree import DecisionTreeClassifier\n",
        "\n",
        "# The model we will use will be a decision tree\n",
        "estimator = DecisionTreeClassifier()\n",
        "\n",
        "# Create RFE object to select 2 attributes based on decision tree\n",
        "selector = RFE(estimator, n_features_to_select=2)\n",
        "\n",
        "# Fitting the RFE object to the data\n",
        "selector = selector.fit(X, y)\n",
        "\n",
        "# Get the indexes of the selected attributes\n",
        "feature_indices = selector.get_support(indices=True)\n",
        "\n",
        "# Print the names of the selected attributes\n",
        "print(X.columns[feature_indices])\n",
        "print(selector.support_)\n",
        "print(selector.ranking_)\n"
      ],
      "metadata": {
        "colab": {
          "base_uri": "https://localhost:8080/"
        },
        "id": "uv_r3FGUalyc",
        "outputId": "140b3b9c-b762-42cf-ccee-892c981219ba"
      },
      "execution_count": 6,
      "outputs": [
        {
          "output_type": "stream",
          "name": "stdout",
          "text": [
            "Index(['petal.length', 'petal.width'], dtype='object')\n",
            "[False False  True  True]\n",
            "[3 2 1 1]\n"
          ]
        }
      ]
    },
    {
      "cell_type": "markdown",
      "source": [
        "RFE starts from all attributes and tries to eliminate them. If we want to use the opposite strategy (start from a set of attributes and add them) we can use **SequentialFeatureSelector**. The following example applies this strategy, also using a decision tree."
      ],
      "metadata": {
        "id": "6b3c7oud37sK"
      }
    },
    {
      "cell_type": "code",
      "source": [
        "from sklearn.feature_selection import SequentialFeatureSelector\n",
        "\n",
        "# The model we will use will be a decision tree\n",
        "estimator = DecisionTreeClassifier()\n",
        "\n",
        "# Create SFS object to select 2 attributes based on decision tree\n",
        "sfs = SequentialFeatureSelector(estimator, n_features_to_select=2)\n",
        "\n",
        "# Fitting the SFS object to the data\n",
        "sfs = sfs.fit(X, y)\n",
        "\n",
        "# Get the indexes of the selected attributes\n",
        "feature_indices = sfs.get_support(indices=True)\n",
        "\n",
        "# Print the names of the selected attributes\n",
        "print(X.columns[feature_indices])\n"
      ],
      "metadata": {
        "colab": {
          "base_uri": "https://localhost:8080/"
        },
        "id": "9x9XwBSUabgM",
        "outputId": "20c7ddf2-b749-4df7-d71c-fc6f013f7cb7"
      },
      "execution_count": 7,
      "outputs": [
        {
          "output_type": "stream",
          "name": "stdout",
          "text": [
            "Index(['petal.length', 'petal.width'], dtype='object')\n"
          ]
        }
      ]
    },
    {
      "cell_type": "markdown",
      "source": [
        "## A full example\n",
        "\n",
        "Let's now look at a complete example where we will use several techniques to evaluate the attributes of the diabetes dataset. As you will see, as is often the case, the results are not completely consistent across techniques. Remember that these techniques are just heuristics."
      ],
      "metadata": {
        "id": "fG6T-hoV4yv0"
      }
    },
    {
      "cell_type": "code",
      "source": [
        "url = 'https://raw.githubusercontent.com/AbrahamOtero/MLiB/main/datasets/diabetes.csv'\n",
        "\n",
        "diabetes = pd.read_csv(url)"
      ],
      "metadata": {
        "id": "BpD1WOjU3PkW"
      },
      "execution_count": 8,
      "outputs": []
    },
    {
      "cell_type": "code",
      "source": [
        "# X will be the matrix with the features that we are going to evaluate and y the class\n",
        "X = diabetes.drop('Outcome', axis=1)\n",
        "y = diabetes['Outcome']\n",
        "\n",
        "# Apply SelectKBest with mutual_info_classif to get the scores\n",
        "best_features = SelectKBest(score_func=mutual_info_classif, k=5)\n",
        "fit = best_features.fit(X, y)\n",
        "\n",
        "# Get the indexes of the selected attributes\n",
        "feature_indices = fit.get_support(indices=True)\n",
        "print(X.columns[feature_indices])\n",
        "\n",
        "# Get the mutual_info_classif scores for each feature and print them\n",
        "feature_scores = fit.scores_\n",
        "df_scores = pd.DataFrame({'Feature': X.columns, 'Mutual Info Score': feature_scores})\n",
        "df_scores = df_scores.sort_values(by='Mutual Info Score', ascending=False)\n",
        "print(df_scores)\n",
        "\n",
        "# Now let's move to wrapper methods\n",
        "# The model we will use will be a decision tree\n",
        "estimator = DecisionTreeClassifier()\n",
        "\n",
        "# Create RFE object to select 4 attributes based on decision tree\n",
        "selector = RFE(estimator, n_features_to_select=4)\n",
        "\n",
        "# Fitting the RFE object to the data\n",
        "selector = selector.fit(X, y)\n",
        "\n",
        "# Get the indexes of the selected attributes\n",
        "feature_indices = selector.get_support(indices=True)\n",
        "print(X.columns[feature_indices])\n",
        "\n",
        "# Create SequentialFeatureSelector object to select 4 attributes based on decision tree\n",
        "sfs = SequentialFeatureSelector(estimator, n_features_to_select=4)\n",
        "sfs = sfs.fit(X, y)\n",
        "\n",
        "# Get the indexes of the selected attributes\n",
        "feature_indices = sfs.get_support(indices=True)\n",
        "print(X.columns[feature_indices])\n"
      ],
      "metadata": {
        "id": "-7anEsr93feK",
        "outputId": "2b2b2c9e-c6a8-4fb1-f1d1-e88903322c99",
        "colab": {
          "base_uri": "https://localhost:8080/"
        }
      },
      "execution_count": 9,
      "outputs": [
        {
          "output_type": "stream",
          "name": "stdout",
          "text": [
            "Index(['Pregnancies', 'Glucose', 'Insulin', 'BMI', 'Age'], dtype='object')\n",
            "                    Feature  Mutual Info Score\n",
            "1                   Glucose           0.107223\n",
            "5                       BMI           0.076873\n",
            "0               Pregnancies           0.073308\n",
            "7                       Age           0.059826\n",
            "4                   Insulin           0.023931\n",
            "3             SkinThickness           0.023025\n",
            "6  DiabetesPedigreeFunction           0.020021\n",
            "2             BloodPressure           0.000000\n",
            "Index(['Glucose', 'BMI', 'DiabetesPedigreeFunction', 'Age'], dtype='object')\n",
            "Index(['Glucose', 'BloodPressure', 'SkinThickness',\n",
            "       'DiabetesPedigreeFunction'],\n",
            "      dtype='object')\n"
          ]
        }
      ]
    },
    {
      "cell_type": "markdown",
      "source": [
        "Based on the results, it is clear that Glucose is the most relevant attribute, as it has been consistently selected by all methods. Insulin has not been selected by either of the two wrapping methods, nor evaluated very well by the Information Gain method. BMI and Age have been selected by one of the wrapping methods, and have been evaluated well by the filter method. For the rest of the attributes, the value of their values ​​is not so clear."
      ],
      "metadata": {
        "id": "YE7uKgde5_2X"
      }
    },
    {
      "cell_type": "markdown",
      "source": [
        "# Exercises\n",
        "\n",
        "Load the diabetes dataset."
      ],
      "metadata": {
        "id": "oN3gQJBeoS2j"
      }
    },
    {
      "cell_type": "code",
      "source": [
        "# Your code goes here"
      ],
      "metadata": {
        "id": "9JtBcRZVoZyY"
      },
      "execution_count": null,
      "outputs": []
    },
    {
      "cell_type": "markdown",
      "source": [
        "Select the 4 attributes that provide the most information based on the chi-square statistic:"
      ],
      "metadata": {
        "id": "YJbOCx4voc64"
      }
    },
    {
      "cell_type": "code",
      "source": [
        "# Your code goes here"
      ],
      "metadata": {
        "id": "usogG_X1oc9Y"
      },
      "execution_count": null,
      "outputs": []
    },
    {
      "cell_type": "markdown",
      "source": [
        "Select the 4 attributes that provide the most information based on the information gain criterion:"
      ],
      "metadata": {
        "id": "SPu531h1oc_o"
      }
    },
    {
      "cell_type": "code",
      "source": [
        "# Your code goes here"
      ],
      "metadata": {
        "id": "QW3yxxrFodB5"
      },
      "execution_count": null,
      "outputs": []
    },
    {
      "cell_type": "markdown",
      "source": [
        "Display the scores obtained by all attributes for both the chi-square statistic and the information gain.\n"
      ],
      "metadata": {
        "id": "Egk5HNUdodEI"
      }
    },
    {
      "cell_type": "code",
      "source": [
        "# Your code goes here"
      ],
      "metadata": {
        "id": "IdwIU8pmodGZ"
      },
      "execution_count": null,
      "outputs": []
    },
    {
      "cell_type": "markdown",
      "source": [
        "Use feature selection based on a model wrapper using a decision tree. Use the backward search strategy."
      ],
      "metadata": {
        "id": "ZAH8XizcodIY"
      }
    },
    {
      "cell_type": "code",
      "source": [
        "# Your code goes here"
      ],
      "metadata": {
        "id": "CbEoglApodKq"
      },
      "execution_count": null,
      "outputs": []
    },
    {
      "cell_type": "markdown",
      "source": [
        "Repeat the previous exercise but using the forward search strategy."
      ],
      "metadata": {
        "id": "wN1DoN8YodM4"
      }
    },
    {
      "cell_type": "code",
      "source": [
        "# Your code goes here"
      ],
      "metadata": {
        "id": "qSKohkL3odO4"
      },
      "execution_count": null,
      "outputs": []
    },
    {
      "cell_type": "markdown",
      "source": [
        "What general conclusions do you draw from the importance of the different attributes to predict the class in this dataset?"
      ],
      "metadata": {
        "id": "WyWKwS1todVI"
      }
    }
  ]
}