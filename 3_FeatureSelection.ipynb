{
  "nbformat": 4,
  "nbformat_minor": 0,
  "metadata": {
    "colab": {
      "provenance": [],
      "authorship_tag": "ABX9TyPYeSZTMAfPKN5lxpJTC7Z8",
      "include_colab_link": true
    },
    "kernelspec": {
      "name": "python3",
      "display_name": "Python 3"
    },
    "language_info": {
      "name": "python"
    }
  },
  "cells": [
    {
      "cell_type": "markdown",
      "metadata": {
        "id": "view-in-github",
        "colab_type": "text"
      },
      "source": [
        "<a href=\"https://colab.research.google.com/github/AbrahamOtero/MLiB/blob/main/3_FeatureSelection.ipynb\" target=\"_parent\"><img src=\"https://colab.research.google.com/assets/colab-badge.svg\" alt=\"Open In Colab\"/></a>"
      ]
    },
    {
      "cell_type": "code",
      "source": [],
      "metadata": {
        "id": "keAgL_kGVQ2_"
      },
      "execution_count": null,
      "outputs": []
    },
    {
      "cell_type": "markdown",
      "source": [
        "#Feature selection\n",
        "\n",
        "##Set up\n",
        "\n",
        "We import the libraries that we are going to need"
      ],
      "metadata": {
        "id": "CZxBwrxtVUsy"
      }
    },
    {
      "cell_type": "code",
      "execution_count": null,
      "metadata": {
        "id": "lvRI0z-eVIky"
      },
      "outputs": [],
      "source": [
        "\n",
        "import pandas as pd\n",
        "import numpy as np\n",
        "import seaborn as sns\n",
        "import matplotlib.pyplot as plt"
      ]
    },
    {
      "cell_type": "markdown",
      "source": [
        "We will first import the iris data set"
      ],
      "metadata": {
        "id": "LXggv4vzZ4Gc"
      }
    },
    {
      "cell_type": "code",
      "source": [
        "url = 'https://raw.githubusercontent.com/AbrahamOtero/MLiB/main/datasets/iris.csv'\n",
        "\n",
        "iris = pd.read_csv(url)"
      ],
      "metadata": {
        "id": "tsdAD6yYZ3Y8"
      },
      "execution_count": null,
      "outputs": []
    },
    {
      "cell_type": "markdown",
      "source": [
        "To implement different filtering method strategies, **SelectKBest** can be used, which selects the number of attributes that we indicate in its constructor (parameter k) based on some slag function. In this case, the chi-square function will be used. If the score_func used is **'mutual_info_classif'** will use the information gain criterion. In the case where the class is metric, the **'f_regression'** criterion can be used"
      ],
      "metadata": {
        "id": "R2us__rky2RL"
      }
    },
    {
      "cell_type": "code",
      "source": [
        "\n",
        "from sklearn.feature_selection import SelectKBest\n",
        "from sklearn.feature_selection import chi2\n",
        "\n",
        "#X will be the matrix with the features that we are going to evaluate and y the class\n",
        "X = iris.drop('class', axis=1)\n",
        "y = iris['class']\n",
        "\n",
        "# Apply SelectKBest with chi2 to select the 2 best attributes\n",
        "best_features = SelectKBest(score_func=chi2, k=2)\n",
        "fit = best_features.fit(X, y)\n",
        "\n",
        "# Obtener los índices de los atributos seleccionados\n",
        "feature_indices = fit.get_support(indices=True)\n",
        "\n",
        "# Print the names of the selected attributes\n",
        "print(X.columns[feature_indices])\n"
      ],
      "metadata": {
        "colab": {
          "base_uri": "https://localhost:8080/"
        },
        "id": "MSkkfZDUaEdc",
        "outputId": "a5d4bb4d-1feb-42f4-f5ce-bd16f8d4821a"
      },
      "execution_count": null,
      "outputs": [
        {
          "output_type": "stream",
          "name": "stdout",
          "text": [
            "Index(['petal.length', 'petal.width'], dtype='object')\n"
          ]
        }
      ]
    },
    {
      "cell_type": "markdown",
      "source": [
        "To carry out feature selection based on model wrappers, we can use the **RFE** (Recursive feature elimination)class, to which we must pass the model we want to use for the selection. In the example below, the model will be a decision tree."
      ],
      "metadata": {
        "id": "Mn8ewMaj2kKJ"
      }
    },
    {
      "cell_type": "code",
      "source": [
        "from sklearn.feature_selection import RFE\n",
        "from sklearn.tree import DecisionTreeClassifier\n",
        "\n",
        "# The model we will use will be a decision tree\n",
        "estimator = DecisionTreeClassifier()\n",
        "\n",
        "# Create RFE object to select 2 attributes based on decision tree\n",
        "selector = RFE(estimator, n_features_to_select=2)\n",
        "\n",
        "# Fitting the RFE object to the data\n",
        "selector = selector.fit(X, y)\n",
        "\n",
        "# Get the indexes of the selected attributes\n",
        "feature_indices = selector.get_support(indices=True)\n",
        "\n",
        "# Print the names of the selected attributes\n",
        "print(X.columns[feature_indices])\n",
        "print(selector.support_)\n",
        "print(selector.ranking_)\n"
      ],
      "metadata": {
        "colab": {
          "base_uri": "https://localhost:8080/"
        },
        "id": "uv_r3FGUalyc",
        "outputId": "bbc0837b-a4cc-4537-cd2b-1e95b066deab"
      },
      "execution_count": null,
      "outputs": [
        {
          "output_type": "stream",
          "name": "stdout",
          "text": [
            "Index(['petal.length', 'petal.width'], dtype='object')\n",
            "[False False  True  True]\n",
            "[2 3 1 1]\n"
          ]
        }
      ]
    },
    {
      "cell_type": "markdown",
      "source": [
        "RFE starts from all attributes and tries to eliminate them. If we want to use the opposite strategy (start from a set of attributes and add them) we can use **SequentialFeatureSelector**. The following example applies this strategy, also using a decision tree."
      ],
      "metadata": {
        "id": "6b3c7oud37sK"
      }
    },
    {
      "cell_type": "code",
      "source": [
        "from sklearn.feature_selection import SequentialFeatureSelector\n",
        "\n",
        "# The model we will use will be a decision tree\n",
        "estimator = DecisionTreeClassifier()\n",
        "\n",
        "# Create SFS object to select 2 attributes based on decision tree\n",
        "sfs = SequentialFeatureSelector(estimator, n_features_to_select=2)\n",
        "\n",
        "# Fitting the SFS object to the data\n",
        "sfs = sfs.fit(X, y)\n",
        "\n",
        "# Get the indexes of the selected attributes\n",
        "feature_indices = sfs.get_support(indices=True)\n",
        "\n",
        "# Print the names of the selected attributes\n",
        "print(X.columns[feature_indices])\n"
      ],
      "metadata": {
        "colab": {
          "base_uri": "https://localhost:8080/"
        },
        "id": "9x9XwBSUabgM",
        "outputId": "319879b9-c2ff-4ce5-9a76-9e319ba18f73"
      },
      "execution_count": null,
      "outputs": [
        {
          "output_type": "stream",
          "name": "stdout",
          "text": [
            "Index(['petal.length', 'petal.width'], dtype='object')\n"
          ]
        }
      ]
    }
  ]
}